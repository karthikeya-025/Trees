{
 "cells": [
  {
   "cell_type": "markdown",
   "id": "f7695033",
   "metadata": {},
   "source": [
    "# Binary Trees"
   ]
  },
  {
   "cell_type": "markdown",
   "id": "9170b572",
   "metadata": {},
   "source": [
    "## 1.Implement Binary tree"
   ]
  },
  {
   "cell_type": "code",
   "execution_count": 1,
   "id": "22c3e336",
   "metadata": {},
   "outputs": [],
   "source": [
    "class Node:\n",
    "    def __init__(self,data = None,left = None,right=None):\n",
    "        self.data = data\n",
    "        self.left = left\n",
    "        self.right = right"
   ]
  },
  {
   "cell_type": "code",
   "execution_count": 2,
   "id": "ff238b58",
   "metadata": {},
   "outputs": [],
   "source": [
    "class BinaryTree:\n",
    "    def __init__(self):\n",
    "        self.root = None\n",
    "    def insert(self,e):\n",
    "        new_node = Node(e)\n",
    "        if self.root is None:\n",
    "            self.root = new_node\n",
    "            return True\n",
    "        else:\n",
    "            current = self.root\n",
    "            while True:\n",
    "                if e < current.data:\n",
    "                    if current.left is None:\n",
    "                        current.left =new_node\n",
    "                        break\n",
    "                    else:\n",
    "                        current = current.left\n",
    "                else:\n",
    "                    if current.right is None:\n",
    "                        current.right = new_node\n",
    "                        break\n",
    "                    else:\n",
    "                        current = current.right\n",
    "                    \n",
    "    def search(self, e):\n",
    "        current_node = self.root\n",
    "        while current_node is not None:\n",
    "            if value == current_node.value:\n",
    "                return current_node\n",
    "            elif value < current_node.value:\n",
    "                current_node = current_node.left\n",
    "            else:\n",
    "                current_node = current_node.right\n",
    "        return None\n",
    "    \n",
    "    "
   ]
  },
  {
   "cell_type": "code",
   "execution_count": 3,
   "id": "7f583b80",
   "metadata": {},
   "outputs": [],
   "source": [
    "bt = BinaryTree()"
   ]
  },
  {
   "cell_type": "code",
   "execution_count": 4,
   "id": "f383a477",
   "metadata": {},
   "outputs": [
    {
     "data": {
      "text/plain": [
       "True"
      ]
     },
     "execution_count": 4,
     "metadata": {},
     "output_type": "execute_result"
    }
   ],
   "source": [
    "bt.insert(5)\n"
   ]
  },
  {
   "cell_type": "code",
   "execution_count": 5,
   "id": "b1f890fb",
   "metadata": {},
   "outputs": [],
   "source": [
    "bt.insert(4)"
   ]
  },
  {
   "cell_type": "code",
   "execution_count": 6,
   "id": "53d23461",
   "metadata": {},
   "outputs": [],
   "source": [
    "bt.insert(3)\n",
    "bt.insert(6)"
   ]
  },
  {
   "cell_type": "code",
   "execution_count": 7,
   "id": "6b2540c0",
   "metadata": {},
   "outputs": [],
   "source": [
    "bt.insert(7)"
   ]
  },
  {
   "cell_type": "markdown",
   "id": "59174779",
   "metadata": {},
   "source": [
    "## 2.Find height of a given tree"
   ]
  },
  {
   "cell_type": "code",
   "execution_count": 8,
   "id": "a5e52601",
   "metadata": {},
   "outputs": [],
   "source": [
    "def height_of_tree(root):\n",
    "    queue = []\n",
    "    queue.append(root)\n",
    "    height = 0\n",
    "    while queue:\n",
    "        node = queue.pop(0)\n",
    "        height += 1\n",
    "        if node.left:\n",
    "            queue.append(node.left)\n",
    "        if node.right:\n",
    "            queue.append(node.right)\n",
    "    return height"
   ]
  },
  {
   "cell_type": "code",
   "execution_count": 9,
   "id": "493626cb",
   "metadata": {},
   "outputs": [
    {
     "data": {
      "text/plain": [
       "5"
      ]
     },
     "execution_count": 9,
     "metadata": {},
     "output_type": "execute_result"
    }
   ],
   "source": [
    "height_of_tree(bt.root)"
   ]
  },
  {
   "cell_type": "markdown",
   "id": "24b9de9a",
   "metadata": {},
   "source": [
    "## 3.Perform Pre-order, Post-order, In-order traversal"
   ]
  },
  {
   "cell_type": "code",
   "execution_count": 10,
   "id": "1342f100",
   "metadata": {},
   "outputs": [],
   "source": [
    "def preorder(root):\n",
    "    if root is not None:\n",
    "        print(root.data)\n",
    "        preorder(root.left)\n",
    "        preorder(root.right)"
   ]
  },
  {
   "cell_type": "code",
   "execution_count": 11,
   "id": "0b7fa191",
   "metadata": {},
   "outputs": [
    {
     "name": "stdout",
     "output_type": "stream",
     "text": [
      "5\n",
      "4\n",
      "3\n",
      "6\n",
      "7\n"
     ]
    }
   ],
   "source": [
    "preorder(bt.root)"
   ]
  },
  {
   "cell_type": "code",
   "execution_count": 12,
   "id": "fd1a2aa8",
   "metadata": {},
   "outputs": [],
   "source": [
    "def postorder(root):\n",
    "    if root is not None:\n",
    "        postorder(root.left)\n",
    "        postorder(root.right)\n",
    "        print(root.data)"
   ]
  },
  {
   "cell_type": "code",
   "execution_count": 13,
   "id": "d48b84f7",
   "metadata": {},
   "outputs": [
    {
     "name": "stdout",
     "output_type": "stream",
     "text": [
      "3\n",
      "4\n",
      "7\n",
      "6\n",
      "5\n"
     ]
    }
   ],
   "source": [
    "postorder(bt.root)"
   ]
  },
  {
   "cell_type": "code",
   "execution_count": 14,
   "id": "6e42b8ac",
   "metadata": {},
   "outputs": [],
   "source": [
    "def inorder(root):\n",
    "    if root is not None:\n",
    "        inorder(root.left)\n",
    "        print(root.data)\n",
    "        inorder(root.right)"
   ]
  },
  {
   "cell_type": "code",
   "execution_count": 15,
   "id": "1283746e",
   "metadata": {},
   "outputs": [
    {
     "name": "stdout",
     "output_type": "stream",
     "text": [
      "3\n",
      "4\n",
      "5\n",
      "6\n",
      "7\n"
     ]
    }
   ],
   "source": [
    "inorder(bt.root)"
   ]
  },
  {
   "cell_type": "markdown",
   "id": "b698e9b8",
   "metadata": {},
   "source": [
    "## 4.Function to print all the leaves in a given binary tree"
   ]
  },
  {
   "cell_type": "code",
   "execution_count": 26,
   "id": "fe7e394a",
   "metadata": {},
   "outputs": [],
   "source": [
    "def leaves(root):\n",
    "    l = []\n",
    "    if root is None:\n",
    "        return\n",
    "    if root.left is None and root.right is None:\n",
    "        l.append(root.left)\n",
    "        l.append(root.right)\n",
    "        \n",
    "    else:\n",
    "        leaves(root.left)\n",
    "        leaves(root.right)\n",
    "    return l\n",
    "        "
   ]
  },
  {
   "cell_type": "code",
   "execution_count": 27,
   "id": "840180ea",
   "metadata": {},
   "outputs": [
    {
     "name": "stdout",
     "output_type": "stream",
     "text": [
      "[]\n"
     ]
    }
   ],
   "source": [
    "print(leaves(bt.root))"
   ]
  },
  {
   "cell_type": "markdown",
   "id": "72e7e04f",
   "metadata": {},
   "source": [
    "## 5.Implement BFS (Breath First Search) and DFS (Depth First Search)"
   ]
  },
  {
   "cell_type": "code",
   "execution_count": 18,
   "id": "01ab8450",
   "metadata": {},
   "outputs": [],
   "source": [
    "def BFS(root):\n",
    "    queue = []\n",
    "    visited  = set()\n",
    "    queue.append(root)\n",
    "    visited.add(root)\n",
    "    while queue:\n",
    "        node = queue.pop(0)\n",
    "        yield node\n",
    "        if node.left and node.left not in visited:\n",
    "            queue.append(node.left)\n",
    "            visited.add(node.left)\n",
    "        if node.right and node.right not in visited:\n",
    "            queue.append(node.right)\n",
    "            visited.add(node.right)"
   ]
  },
  {
   "cell_type": "code",
   "execution_count": 19,
   "id": "330cfe74",
   "metadata": {},
   "outputs": [
    {
     "name": "stdout",
     "output_type": "stream",
     "text": [
      "5\n",
      "4\n",
      "6\n",
      "3\n",
      "7\n"
     ]
    }
   ],
   "source": [
    "for node in BFS(bt.root):\n",
    "    print(node.data)"
   ]
  },
  {
   "cell_type": "code",
   "execution_count": 20,
   "id": "b6a6a324",
   "metadata": {},
   "outputs": [],
   "source": [
    "def DFS(root):\n",
    "    visited = set()\n",
    "    stack = []\n",
    "    visited.add(root)\n",
    "    stack.append(root)\n",
    "    while stack:\n",
    "        node = stack.pop()\n",
    "        yield node\n",
    "        if node.left and node.left not in visited:\n",
    "            stack.append(node.left)\n",
    "            visited.add(node.left)\n",
    "        if node.right and node.right not in visited:\n",
    "            stack.append(node.right)\n",
    "            visited.add(node.right)\n",
    "        \n",
    "            "
   ]
  },
  {
   "cell_type": "code",
   "execution_count": 21,
   "id": "ac0fbcda",
   "metadata": {},
   "outputs": [
    {
     "name": "stdout",
     "output_type": "stream",
     "text": [
      "5\n",
      "6\n",
      "7\n",
      "4\n",
      "3\n"
     ]
    }
   ],
   "source": [
    "for node in DFS(bt.root):\n",
    "    print(node.data)"
   ]
  },
  {
   "cell_type": "markdown",
   "id": "d2122ad3",
   "metadata": {},
   "source": [
    "## 6.Find sum of all left leaves in a given Binary Tree"
   ]
  },
  {
   "cell_type": "code",
   "execution_count": 43,
   "id": "33657c04",
   "metadata": {},
   "outputs": [],
   "source": [
    "def sum_of_left(root):\n",
    "        if root is None:\n",
    "            return 0\n",
    "        if root and root.left and root.left.left is None and root.left.right is None:\n",
    "            return root.left.data + sum_of_left(root.right)\n",
    "        return sum_of_left(root.left) + sum_of_left(root.right)\n",
    "    "
   ]
  },
  {
   "cell_type": "code",
   "execution_count": 44,
   "id": "2fd6fc71",
   "metadata": {},
   "outputs": [
    {
     "data": {
      "text/plain": [
       "3"
      ]
     },
     "execution_count": 44,
     "metadata": {},
     "output_type": "execute_result"
    }
   ],
   "source": [
    "sum_of_left(bt.root)"
   ]
  },
  {
   "cell_type": "markdown",
   "id": "f751825c",
   "metadata": {},
   "source": [
    "## 7.Find sum of all nodes of the given perfect binary tree"
   ]
  },
  {
   "cell_type": "code",
   "execution_count": 41,
   "id": "854ff0bb",
   "metadata": {},
   "outputs": [],
   "source": [
    "def sum_of_all_nodes(root):\n",
    "    if root is None:\n",
    "        return 0\n",
    "    return root.data + sum_of_all_nodes(root.left) + sum_of_all_nodes(root.right)"
   ]
  },
  {
   "cell_type": "code",
   "execution_count": 42,
   "id": "3bcb84ce",
   "metadata": {},
   "outputs": [
    {
     "data": {
      "text/plain": [
       "25"
      ]
     },
     "execution_count": 42,
     "metadata": {},
     "output_type": "execute_result"
    }
   ],
   "source": [
    "sum_of_all_nodes(bt.root)"
   ]
  },
  {
   "cell_type": "markdown",
   "id": "49c76f06",
   "metadata": {},
   "source": [
    "## 8.Count subtress that sum up to a given value x in a binary tree"
   ]
  },
  {
   "cell_type": "code",
   "execution_count": 49,
   "id": "6f5fa52d",
   "metadata": {},
   "outputs": [],
   "source": [
    "def count_sub(root,x):\n",
    "    if root is None:\n",
    "        return 0\n",
    "    if root.data == x:\n",
    "        return 1\n",
    "    return count_sub(root.left,x-root.data) + count_sub(root.right,x-root.data)\n"
   ]
  },
  {
   "cell_type": "code",
   "execution_count": 53,
   "id": "197f8c17",
   "metadata": {},
   "outputs": [
    {
     "data": {
      "text/plain": [
       "0"
      ]
     },
     "execution_count": 53,
     "metadata": {},
     "output_type": "execute_result"
    }
   ],
   "source": [
    "count_sub(bt.root,7)"
   ]
  },
  {
   "cell_type": "markdown",
   "id": "b7bf5bae",
   "metadata": {},
   "source": [
    "## 9.Find maximum level sum in Binary Tree"
   ]
  },
  {
   "cell_type": "code",
   "execution_count": 55,
   "id": "4ad3d922",
   "metadata": {},
   "outputs": [],
   "source": [
    "def max_len(root):\n",
    "    if root is None:\n",
    "        return 0\n",
    "    current_sum = 0\n",
    "    max_sum =0\n",
    "    queue = [root]\n",
    "    while queue:\n",
    "        node = queue.pop(0)\n",
    "        current_sum += node.data\n",
    "        if node.left:\n",
    "            queue.append(node.left)\n",
    "        if node.right:\n",
    "            queue.append(node.right)\n",
    "        if not queue:\n",
    "            if current_sum>= max_sum:\n",
    "                max_sum = current_sum\n",
    "            current_sum = 0\n",
    "    return max_sum"
   ]
  },
  {
   "cell_type": "code",
   "execution_count": 56,
   "id": "eddabcc6",
   "metadata": {},
   "outputs": [
    {
     "data": {
      "text/plain": [
       "25"
      ]
     },
     "execution_count": 56,
     "metadata": {},
     "output_type": "execute_result"
    }
   ],
   "source": [
    "max_len(bt.root)"
   ]
  },
  {
   "cell_type": "markdown",
   "id": "f9390b0a",
   "metadata": {},
   "source": [
    "## 10.Print the nodes at odd levels of a tree"
   ]
  },
  {
   "cell_type": "code",
   "execution_count": 57,
   "id": "df0807c5",
   "metadata": {},
   "outputs": [],
   "source": [
    "def print_at_odd(root,level=1):\n",
    "    if root is None:\n",
    "        return\n",
    "    if level%2 == 1:\n",
    "        print(root.data)\n",
    "    print_at_odd(root.left,level+1)\n",
    "    print_at_odd(root.right,level+1)"
   ]
  },
  {
   "cell_type": "code",
   "execution_count": 58,
   "id": "6facfe90",
   "metadata": {},
   "outputs": [
    {
     "name": "stdout",
     "output_type": "stream",
     "text": [
      "5\n",
      "3\n",
      "7\n"
     ]
    }
   ],
   "source": [
    "print_at_odd(bt.root)"
   ]
  },
  {
   "cell_type": "code",
   "execution_count": null,
   "id": "3f2e458c",
   "metadata": {},
   "outputs": [],
   "source": []
  }
 ],
 "metadata": {
  "kernelspec": {
   "display_name": "Python 3 (ipykernel)",
   "language": "python",
   "name": "python3"
  },
  "language_info": {
   "codemirror_mode": {
    "name": "ipython",
    "version": 3
   },
   "file_extension": ".py",
   "mimetype": "text/x-python",
   "name": "python",
   "nbconvert_exporter": "python",
   "pygments_lexer": "ipython3",
   "version": "3.10.9"
  }
 },
 "nbformat": 4,
 "nbformat_minor": 5
}
